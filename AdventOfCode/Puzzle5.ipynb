{
 "cells": [
  {
   "cell_type": "code",
   "execution_count": 19,
   "metadata": {
    "collapsed": false
   },
   "outputs": [],
   "source": [
    "import hashlib\n",
    "input_code = 'ffykfhsq'\n",
    "\n",
    "def get_hash(string):\n",
    "    m = hashlib.md5()\n",
    "    m.update(string)\n",
    "    return m.hexdigest()\n",
    "\n",
    "\n",
    "class HashSolver():\n",
    "    \n",
    "    def __init__(self, input_code):\n",
    "        self.input_code = input_code\n",
    "        self.tried_hashes = []\n",
    "        self.password2 = {'0': None,\n",
    "                          '1': None,\n",
    "                          '2': None,\n",
    "                          '3': None,\n",
    "                          '4': None,\n",
    "                          '5': None,\n",
    "                          '6': None,\n",
    "                          '7': None}\n",
    "        self.password1 = ''\n",
    "        \n",
    "    def check_hash_1(self, md5_hash):\n",
    "        return ('00000' in md5_hash) and (md5_hash not in self.tried_hashes)\n",
    "    \n",
    "    def check_hash_2(self, md5_hash):\n",
    "        return self.check_hash_1(md5_hash) and (md5_hash[5:6] in self.password2) and (not self.password2[md5_hash[5:6]])\n",
    "        \n",
    "    def build_string(self, number):\n",
    "        return self.input_code+str(number)\n",
    "                \n",
    "    def find_password_1(self):\n",
    "        i = 0\n",
    "        for _ in range(8):\n",
    "            _hash = ''\n",
    "            while not self.check_hash_1(_hash):\n",
    "                _hash = get_hash(self.build_string(i))\n",
    "                i += 1\n",
    "            self.tried_hashes.append(_hash)\n",
    "            self.password1 += _hash[5:6]\n",
    "            \n",
    "    def find_password_2(self):\n",
    "        i = 0\n",
    "        for _ in range(8):\n",
    "            _hash = ''\n",
    "            while not self.check_hash_2(_hash):\n",
    "                _hash = get_hash(self.build_string(i))\n",
    "                i += 1\n",
    "            self.tried_hashes.append(_hash)\n",
    "            pos = _hash[5:6]\n",
    "            self.password2[pos] = _hash[6:7]\n",
    "            print self.password2\n",
    "            \n",
    "            \n",
    "def test_check_hash_2_1():\n",
    "    solver = HashSolver('aaa')\n",
    "    return(not solver.check_hash_2('00000dsfad'))\n",
    "\n",
    "def test_check_hash_2_2():\n",
    "    solver = HashSolver('aaa')\n",
    "    return(solver.check_hash_2('000001sfad'))        \n",
    "\n",
    "def test_check_hash_2_3():\n",
    "    solver = HashSolver('aaa')\n",
    "    return(not solver.check_hash_2('00007sfad'))        \n",
    "\n",
    "def test_check_hash_2_4():\n",
    "    solver = HashSolver('aaa')\n",
    "    return(not solver.check_hash_2('000008sfad'))        "
   ]
  },
  {
   "cell_type": "code",
   "execution_count": 20,
   "metadata": {
    "collapsed": false
   },
   "outputs": [
    {
     "name": "stdout",
     "output_type": "stream",
     "text": [
      "True\n",
      "True\n",
      "True\n",
      "True\n"
     ]
    }
   ],
   "source": [
    "print test_check_hash_2_1()\n",
    "print test_check_hash_2_2()\n",
    "print test_check_hash_2_3()\n",
    "print test_check_hash_2_4()"
   ]
  },
  {
   "cell_type": "code",
   "execution_count": null,
   "metadata": {
    "collapsed": false
   },
   "outputs": [],
   "source": [
    "# Part 1\n",
    "solver = HashSolver('ffykfhsq')\n",
    "solver.find_password_1()\n",
    "print solver.password1"
   ]
  },
  {
   "cell_type": "code",
   "execution_count": 21,
   "metadata": {
    "collapsed": false
   },
   "outputs": [
    {
     "name": "stdout",
     "output_type": "stream",
     "text": [
      "{'1': None, '0': '0', '3': None, '2': None, '5': None, '4': None, '7': None, '6': None}\n",
      "{'1': None, '0': '0', '3': None, '2': None, '5': None, '4': None, '7': None, '6': 'd'}\n",
      "{'1': None, '0': '0', '3': 'e', '2': None, '5': None, '4': None, '7': None, '6': 'd'}\n",
      "{'1': None, '0': '0', '3': 'e', '2': None, '5': 'd', '4': None, '7': None, '6': 'd'}\n",
      "{'1': None, '0': '0', '3': 'e', '2': '9', '5': 'd', '4': None, '7': None, '6': 'd'}\n",
      "{'1': None, '0': '0', '3': 'e', '2': '9', '5': 'd', '4': None, '7': '0', '6': 'd'}\n",
      "{'1': None, '0': '0', '3': 'e', '2': '9', '5': 'd', '4': 'b', '7': '0', '6': 'd'}\n",
      "{'1': '5', '0': '0', '3': 'e', '2': '9', '5': 'd', '4': 'b', '7': '0', '6': 'd'}\n",
      "\n",
      "059ebdd0\n"
     ]
    }
   ],
   "source": [
    "# Part 2\n",
    "solver = HashSolver('ffykfhsq')\n",
    "solver.find_password_2()\n",
    "print\n",
    "print ''.join([value for key, value in sorted(solver.password2.items())])"
   ]
  },
  {
   "cell_type": "code",
   "execution_count": 27,
   "metadata": {
    "collapsed": false
   },
   "outputs": [
    {
     "name": "stdout",
     "output_type": "stream",
     "text": [
      "059ebdd0\n"
     ]
    }
   ],
   "source": [
    "print ''.join([value for key, value in sorted(solver.password2.items())])"
   ]
  }
 ],
 "metadata": {
  "kernelspec": {
   "display_name": "Python 2",
   "language": "python",
   "name": "python2"
  },
  "language_info": {
   "codemirror_mode": {
    "name": "ipython",
    "version": 2
   },
   "file_extension": ".py",
   "mimetype": "text/x-python",
   "name": "python",
   "nbconvert_exporter": "python",
   "pygments_lexer": "ipython2",
   "version": "2.7.9"
  }
 },
 "nbformat": 4,
 "nbformat_minor": 0
}
