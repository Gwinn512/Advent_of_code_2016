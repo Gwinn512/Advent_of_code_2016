{
 "cells": [
  {
   "cell_type": "code",
   "execution_count": 1,
   "metadata": {
    "collapsed": true
   },
   "outputs": [],
   "source": [
    "with open('Input3.txt') as f:\n",
    "    input_text = f.readlines()\n",
    "    \n",
    "input_list = []\n",
    "for line in input_text:\n",
    "    line.strip('\\n')\n",
    "    line_list = [int(part) for part in line.split()]\n",
    "    input_list.append(line_list)        "
   ]
  },
  {
   "cell_type": "code",
   "execution_count": 2,
   "metadata": {
    "collapsed": true
   },
   "outputs": [],
   "source": [
    "def check_list(input_list):\n",
    "    sorted_list = sorted(input_list)\n",
    "    return sorted_list[-1] < sum(sorted_list[:2])  \n",
    "\n",
    "def slice_list(input_list, len_slice):\n",
    "    len_slice = max(1, len_slice)\n",
    "    return [input_list[i:i+len_slice] for i in range(0, len(input_list), len_slice)]"
   ]
  },
  {
   "cell_type": "code",
   "execution_count": 3,
   "metadata": {
    "collapsed": false
   },
   "outputs": [
    {
     "name": "stdout",
     "output_type": "stream",
     "text": [
      "983\n"
     ]
    }
   ],
   "source": [
    "triangles = 0\n",
    "for sides in input_list:\n",
    "    if check_list(sides):\n",
    "        triangles +=1\n",
    "        \n",
    "print triangles"
   ]
  },
  {
   "cell_type": "code",
   "execution_count": 4,
   "metadata": {
    "collapsed": false
   },
   "outputs": [
    {
     "name": "stdout",
     "output_type": "stream",
     "text": [
      "1836\n"
     ]
    }
   ],
   "source": [
    "import numpy as np\n",
    "input_list_2 = []\n",
    "arr = np.array(input_list)\n",
    "for col in arr.T:\n",
    "    input_list_2 += col.tolist()\n",
    "\n",
    "triangles = 0\n",
    "for sides in slice_list(input_list_2, 3):    \n",
    "    if check_list(sides):\n",
    "        triangles +=1\n",
    "        \n",
    "print triangles"
   ]
  }
 ],
 "metadata": {
  "kernelspec": {
   "display_name": "Python 2",
   "language": "python",
   "name": "python2"
  },
  "language_info": {
   "codemirror_mode": {
    "name": "ipython",
    "version": 2
   },
   "file_extension": ".py",
   "mimetype": "text/x-python",
   "name": "python",
   "nbconvert_exporter": "python",
   "pygments_lexer": "ipython2",
   "version": "2.7.9"
  }
 },
 "nbformat": 4,
 "nbformat_minor": 0
}
