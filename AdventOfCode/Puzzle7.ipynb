{
 "cells": [
  {
   "cell_type": "code",
   "execution_count": 98,
   "metadata": {
    "collapsed": false
   },
   "outputs": [],
   "source": [
    "def parse_input(filename):\n",
    "    with open(filename) as f:\n",
    "        contents = f.readlines()\n",
    "    return [line.strip('\\n') for line in contents]\n",
    "\n",
    "def get_segments(string):\n",
    "    parts = string.replace('[',']').split(']')\n",
    "    hypernets = parts[1:][::2]    \n",
    "    ip = parts[0:][::2]\n",
    "    return ip, hypernets\n",
    "\n",
    "def find_abba(string_list):\n",
    "    for string in string_list:\n",
    "        for i in range(1, len(string)-2):\n",
    "            if string[i] == string[i+1] and string[i-1] == string[i+2] and not string[i] == string[i-1]:\n",
    "                return True        \n",
    "    return False\n",
    "\n",
    "def find_aba(string_list):\n",
    "    abas = []\n",
    "    for string in string_list:\n",
    "        for i in range(len(string)):\n",
    "            try:\n",
    "                if string[i] == string[i+2]:\n",
    "                    abas.append(string[i:i+3])\n",
    "            except:\n",
    "                pass\n",
    "    return abas\n",
    "\n",
    "def find_bab(string_list, aba):\n",
    "    a, b, c = aba\n",
    "    bab = ''.join([b, a, b])\n",
    "    for item in string_list:\n",
    "        return bab in item\n",
    "    return False        "
   ]
  },
  {
   "cell_type": "code",
   "execution_count": 99,
   "metadata": {
    "collapsed": false
   },
   "outputs": [
    {
     "name": "stdout",
     "output_type": "stream",
     "text": [
      "[]\n",
      "['ama']\n",
      "[]\n",
      "['aba', 'bab']\n"
     ]
    }
   ],
   "source": [
    "p1 = ['adcxabbaadx']\n",
    "p2 = ['rhamaeovmbheijj']\n",
    "p3 = ['asdgabba']\n",
    "p4 = ['abba', 'qrst', 'abab']\n",
    "print find_aba(p1)\n",
    "print find_aba(p2)\n",
    "print find_aba(p3)\n",
    "print find_aba(p4)"
   ]
  },
  {
   "cell_type": "code",
   "execution_count": 100,
   "metadata": {
    "collapsed": true
   },
   "outputs": [],
   "source": [
    "# True, False, False, True\n",
    "tests = ['abba[mnop]qrst', 'abcd[bddb]xyyx does', 'aaaa[qwer]tyui', 'ioxxoj[asdfgh]zxcvbn']\n",
    "\n",
    "# True, False, True, True\n",
    "tests2 = ['aba[bab]xyz', 'xyx[xyx]xyx', 'aaa[kek]eke', 'zazbz[bzb]cdb']"
   ]
  },
  {
   "cell_type": "code",
   "execution_count": 102,
   "metadata": {
    "collapsed": false
   },
   "outputs": [
    {
     "name": "stdout",
     "output_type": "stream",
     "text": [
      "Puzzle 1: 110 Puzzle 2: 163\n"
     ]
    }
   ],
   "source": [
    "lines = parse_input('Input7.txt')\n",
    "count1 = 0\n",
    "count2 = 0\n",
    "for line in lines:\n",
    "    ip_address, hypernets = get_segments(line)\n",
    "    if find_abba(ip_address) and not find_abba(hypernets):\n",
    "        count1 += 1\n",
    "    abas = find_aba(ip_address)\n",
    "    for aba in abas:\n",
    "        if find_bab(hypernets, aba):            \n",
    "            count2 += 1\n",
    "            break\n",
    "print 'Puzzle 1: {} Puzzle 2: {}'.format(count1, count2)"
   ]
  }
 ],
 "metadata": {
  "kernelspec": {
   "display_name": "Python 2",
   "language": "python",
   "name": "python2"
  },
  "language_info": {
   "codemirror_mode": {
    "name": "ipython",
    "version": 2
   },
   "file_extension": ".py",
   "mimetype": "text/x-python",
   "name": "python",
   "nbconvert_exporter": "python",
   "pygments_lexer": "ipython2",
   "version": "2.7.12"
  }
 },
 "nbformat": 4,
 "nbformat_minor": 0
}
