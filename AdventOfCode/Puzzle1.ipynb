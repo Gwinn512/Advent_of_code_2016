{
 "cells": [
  {
   "cell_type": "code",
   "execution_count": 4,
   "metadata": {
    "collapsed": true
   },
   "outputs": [],
   "source": [
    "input_directions = 'R5, L2, L1, R1, R3, R3, L3, R3, R4, L2, R4, L4, R4, R3, L2, L1, L1, R2, R4, R4, L4, R3, L2, R1, L4, R1, R3, L5, L4, L5, R3, L3, L1, L1, R4, R2, R2, L1, L4, R191, R5, L2, R46, R3, L1, R74, L2, R2, R187, R3, R4, R1, L4, L4, L2, R4, L5, R4, R3, L2, L1, R3, R3, R3, R1, R1, L4, R4, R1, R5, R2, R1, R3, L4, L2, L2, R1, L3, R1, R3, L5, L3, R5, R3, R4, L1, R3, R2, R1, R2, L4, L1, L1, R3, L3, R4, L2, L4, L5, L5, L4, R2, R5, L4, R4, L2, R3, L4, L3, L5, R5, L4, L2, R3, R5, R5, L1, L4, R3, L1, R2, L5, L1, R4, L1, R5, R1, L4, L4, L4, R4, R3, L5, R1, L3, R4, R3, L2, L1, R1, R2, R2, R2, L1, L1, L2, L5, L3, L1'\n",
    "\n",
    "possible_facing = {'N' : {'R' : 'E', 'L' : 'W'},\n",
    "                   'E' : {'R' : 'S', 'L' : 'N'},\n",
    "                   'S' : {'R' : 'W', 'L' : 'E'},\n",
    "                   'W' : {'R' : 'N', 'L' : 'S'}}\n",
    "\n",
    "position_update = {'N': [1, 0], 'E': [0, 1] , 'S': [-1, 0] , 'W': [0, -1]}"
   ]
  },
  {
   "cell_type": "code",
   "execution_count": 16,
   "metadata": {
    "collapsed": false
   },
   "outputs": [
    {
     "data": {
      "text/plain": [
       "287"
      ]
     },
     "execution_count": 16,
     "metadata": {},
     "output_type": "execute_result"
    }
   ],
   "source": [
    "# Long (north, south), lat (east, west)\n",
    "position = [0,0]\n",
    "facing = 'N'\n",
    "locations = []\n",
    "\n",
    "for direction in input_directions.split(', '):\n",
    "    dist = int(direction[1:])\n",
    "    turn = direction[0]\n",
    "    facing = possible_facing[facing][turn]\n",
    "    for i in range(0,dist):\n",
    "        locations.append(position)\n",
    "        position = [pos + update for pos, update in zip(position, position_update[facing])]\n",
    "\n",
    "# Part 1\n",
    "sum([abs(cord) for cord in position])"
   ]
  },
  {
   "cell_type": "code",
   "execution_count": 18,
   "metadata": {
    "collapsed": false
   },
   "outputs": [
    {
     "data": {
      "text/plain": [
       "133"
      ]
     },
     "execution_count": 18,
     "metadata": {},
     "output_type": "execute_result"
    }
   ],
   "source": [
    "# Part 2\n",
    "walked_locations = []\n",
    "for location in locations:\n",
    "    if location in walked_locations:\n",
    "        hq_pos = location\n",
    "        break\n",
    "    walked_locations.append(location)\n",
    "\n",
    "#sum([abs(cord) for cord in hg_pos])\n",
    "sum([abs(cord) for cord in hq_pos])"
   ]
  }
 ],
 "metadata": {
  "kernelspec": {
   "display_name": "Python 2",
   "language": "python",
   "name": "python2"
  },
  "language_info": {
   "codemirror_mode": {
    "name": "ipython",
    "version": 2
   },
   "file_extension": ".py",
   "mimetype": "text/x-python",
   "name": "python",
   "nbconvert_exporter": "python",
   "pygments_lexer": "ipython2",
   "version": "2.7.9"
  }
 },
 "nbformat": 4,
 "nbformat_minor": 0
}
