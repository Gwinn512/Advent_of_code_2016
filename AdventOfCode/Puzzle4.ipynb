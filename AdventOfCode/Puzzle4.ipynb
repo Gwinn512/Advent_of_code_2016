{
 "cells": [
  {
   "cell_type": "code",
   "execution_count": 49,
   "metadata": {
    "collapsed": false
   },
   "outputs": [],
   "source": [
    "import pandas as pd\n",
    "import numpy as np\n",
    "\n",
    "with open('Input4.txt') as f:\n",
    "    input_text = f.readlines()\n",
    "    \n",
    "input_list = []\n",
    "for line in input_text:\n",
    "    line = line.strip('\\n')\n",
    "    input_list.append(line)"
   ]
  },
  {
   "cell_type": "code",
   "execution_count": 50,
   "metadata": {
    "collapsed": false
   },
   "outputs": [],
   "source": [
    "def count_letters(letters):\n",
    "    letter_counts = pd.Series(letters).value_counts()\n",
    "    counts_df = letter_counts.to_frame()\n",
    "    counts_df['letter'] = counts_df.index\n",
    "    counts_df.columns = ['count', 'letter']\n",
    "    letter_order = counts_df.sort_values(['count', 'letter'], ascending = [False, True]).index.values[:5]\n",
    "    return letter_order\n",
    "\n",
    "def parse_line(line):\n",
    "    line_list = line.split('-')\n",
    "    letters = [letter for letter in ''.join(line_list[:-1])]\n",
    "    actual_order = count_letters(letters)\n",
    "    code_list = line_list[-1].split('[')\n",
    "    code = int(code_list[0])\n",
    "    target_order = pd.Series([letter for letter in code_list[1].strip(']')]).values\n",
    "    return {'actual_order' : actual_order, 'code' : code, 'target_order' : target_order}\n",
    "\n",
    "def check_line(line):\n",
    "    if np.array_equal(line['actual_order'], line['target_order']):\n",
    "        return line['code']\n",
    "    else:\n",
    "        return 0        "
   ]
  },
  {
   "cell_type": "code",
   "execution_count": 53,
   "metadata": {
    "collapsed": false
   },
   "outputs": [
    {
     "name": "stdout",
     "output_type": "stream",
     "text": [
      "409147\n"
     ]
    }
   ],
   "source": [
    "code_sum = 0\n",
    "cleaned_input = []\n",
    "for line in input_list:\n",
    "    split_line = parse_line(line)\n",
    "    code_sum += check_line(split_line)\n",
    "    cleaned_input.append(line)\n",
    "    \n",
    "print code_sum"
   ]
  },
  {
   "cell_type": "code",
   "execution_count": 58,
   "metadata": {
    "collapsed": true
   },
   "outputs": [],
   "source": [
    "def parse_line_2nd(line):\n",
    "    line_list = line.split('-')\n",
    "    words = [word for word in line_list[:-1]]\n",
    "    code = int(line_list[-1].split('[')[0])\n",
    "    return {'words' : words, 'code' : code}"
   ]
  },
  {
   "cell_type": "code",
   "execution_count": 92,
   "metadata": {
    "collapsed": true
   },
   "outputs": [],
   "source": [
    "def decode_word(word, code):\n",
    "    word_out = []\n",
    "    alphabet = 'ABCDEFGHIJKLMNOPQRSTUVWXYZ'.lower()\n",
    "    shift = code % len(alphabet)\n",
    "    for letter in word:        \n",
    "        position = alphabet.index(letter) + shift\n",
    "        if position >= len(alphabet):\n",
    "            position = position % len(alphabet)\n",
    "        word_out.append(alphabet[position])\n",
    "    return ''.join(word_out)"
   ]
  },
  {
   "cell_type": "code",
   "execution_count": 111,
   "metadata": {
    "collapsed": false
   },
   "outputs": [],
   "source": [
    "decoded_names = {}\n",
    "for line in cleaned_input:\n",
    "    parsed_line = parse_line_2nd(line)\n",
    "    decoded_words = []\n",
    "    for word in parsed_line['words']:\n",
    "        decoded_words.append(decode_word(word, parsed_line['code']))\n",
    "        name = ' '.join(decoded_words)\n",
    "    decoded_names[name] = parsed_line['code']\n",
    "    \n",
    "print decoded_names['northpole object storage']    "
   ]
  }
 ],
 "metadata": {
  "kernelspec": {
   "display_name": "Python 2",
   "language": "python",
   "name": "python2"
  },
  "language_info": {
   "codemirror_mode": {
    "name": "ipython",
    "version": 2
   },
   "file_extension": ".py",
   "mimetype": "text/x-python",
   "name": "python",
   "nbconvert_exporter": "python",
   "pygments_lexer": "ipython2",
   "version": "2.7.9"
  }
 },
 "nbformat": 4,
 "nbformat_minor": 0
}
