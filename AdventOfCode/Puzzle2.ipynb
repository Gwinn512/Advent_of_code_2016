{
 "cells": [
  {
   "cell_type": "code",
   "execution_count": 1,
   "metadata": {
    "collapsed": false
   },
   "outputs": [],
   "source": [
    "import numpy as np\n",
    "\n",
    "with open('Input2.txt') as f:\n",
    "    input_text = f.readlines()\n",
    "    \n",
    "moves = {'D' :  [1, 0],\n",
    "         'U' :  [-1, 0],\n",
    "         'L' :  [0, -1],\n",
    "         'R' :  [0, 1]}\n",
    "\n",
    "keypad = np.array([[0, 0, 1, 0, 0], \n",
    "                   [0, 2, 3, 4, 0], \n",
    "                   [5, 6, 7, 8, 9],\n",
    "                   [0, 'A', 'B', 'C', 0],\n",
    "                   [0, 0, 'D', 0, 0 ]\n",
    "                  ])"
   ]
  },
  {
   "cell_type": "code",
   "execution_count": 2,
   "metadata": {
    "collapsed": false
   },
   "outputs": [
    {
     "name": "stdout",
     "output_type": "stream",
     "text": [
      "['7', '4', '2', '3', 'A']\n"
     ]
    }
   ],
   "source": [
    "code = []\n",
    "position = [2, 0]\n",
    "\n",
    "for line in input_text:\n",
    "    for move in line.strip('\\n'):\n",
    "        new_position = [pos + update for pos, update in zip(position, moves[move])]        \n",
    "        if ((new_position[0] in range(0,5)) and (new_position[1] in range(0,5)) and not (keypad[(new_position[0], new_position[1])] == '0')):\n",
    "            position = new_position\n",
    "    code.append(keypad[(position[0], position[1])])\n",
    "    \n",
    "print code    "
   ]
  }
 ],
 "metadata": {
  "kernelspec": {
   "display_name": "Python 2",
   "language": "python",
   "name": "python2"
  },
  "language_info": {
   "codemirror_mode": {
    "name": "ipython",
    "version": 2
   },
   "file_extension": ".py",
   "mimetype": "text/x-python",
   "name": "python",
   "nbconvert_exporter": "python",
   "pygments_lexer": "ipython2",
   "version": "2.7.9"
  }
 },
 "nbformat": 4,
 "nbformat_minor": 0
}
